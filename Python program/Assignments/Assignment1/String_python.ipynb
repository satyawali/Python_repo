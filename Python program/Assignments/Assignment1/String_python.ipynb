{
 "cells": [
  {
   "cell_type": "code",
   "execution_count": null,
   "metadata": {},
   "outputs": [],
   "source": [
    "# 1. Program to reverse a string.\n",
    "# 2. Program to check if string is palindrome or not:\n",
    "# 3. Python Program to Replace all Occurrences of ‘a’ with $ in a String from user:\n",
    "# 4. Python Program to Count the Number of Vowels in a String Input Two Strings and Display the \n",
    "# Larger String without Using Built-in Functions:\n",
    "# 5. Count the number of digits & letter in a string:\n",
    "# 6. Count Number of Lowercase Characters in a String:\n",
    "# 7. Program to check if a Substring is Present in a Given String:"
   ]
  },
  {
   "cell_type": "code",
   "execution_count": null,
   "metadata": {},
   "outputs": [],
   "source": [
    "# 1. Program to reverse a string.\n",
    "\n",
    "n1 = input('enter a number:')\n",
    "print(n1[-1:-len(n1)-1:-1])"
   ]
  },
  {
   "cell_type": "code",
   "execution_count": null,
   "metadata": {},
   "outputs": [],
   "source": [
    "# 2. Program to check if string is palindrome or not:\n",
    "\n",
    "n1 = input('enter a string:')\n",
    "rev_str = n1[-1:-len(n1)-1:-1]\n",
    "\n",
    "if (n1 == rev_str):\n",
    "    print('its a palindrome !')\n",
    "else:\n",
    "    print('not a palindrome !')"
   ]
  },
  {
   "cell_type": "code",
   "execution_count": null,
   "metadata": {},
   "outputs": [],
   "source": [
    "# 3. Python Program to Replace all Occurrences of ‘a’ with $ in a String from user:\n",
    "\n",
    "n1 = input('Enter a string: ')\n",
    "n1.replace('a','$')\n"
   ]
  },
  {
   "cell_type": "code",
   "execution_count": null,
   "metadata": {},
   "outputs": [],
   "source": [
    "# 4. Python Program to Count the Number of Vowels in a String \n",
    "\n",
    "n1 = input('Enter a string: ')\n",
    "count=0;\n",
    "for i in n1:\n",
    "    if i in ['a','A','E','e','I','i','O','o','U','u']:\n",
    "        count+=1\n",
    "    else:\n",
    "        pass\n",
    "\n",
    "print('no. of vowels: {count}'.format(count=count))"
   ]
  },
  {
   "cell_type": "code",
   "execution_count": null,
   "metadata": {},
   "outputs": [],
   "source": [
    "# 4. Input Two Strings and Display the Larger String without Using Built-in Functions: \n",
    "\n",
    "n1 = input('Enter first string: ')\n",
    "n2 = input('Enter second string: ')\n",
    "\n",
    "count=count1=0;\n",
    "\n",
    "for i in n1:\n",
    "    count+=1\n",
    "\n",
    "for j in n2:\n",
    "    count1+=1\n",
    "\n",
    "if (count>count1):\n",
    "    print(\"Larger string: \"+n1)\n",
    "elif (count<count1):\n",
    "    print(\"Larger string: \"+n2)\n",
    "else:\n",
    "    print('both string are equal')   \n"
   ]
  },
  {
   "cell_type": "code",
   "execution_count": null,
   "metadata": {},
   "outputs": [],
   "source": [
    "# 5. Count the number of digits & letter in a string\n",
    "n1 = input('Enter a string: ')\n",
    "d=a=0\n",
    "\n",
    "for i in n1:\n",
    "    if (i.isdigit()):\n",
    "        d=d+1\n",
    "    elif(i.isalpha()):\n",
    "        a=a+1\n",
    "\n",
    "print('digit count: {d}'.format(d=d))\n",
    "print('alpha count: {a}'.format(a=a))"
   ]
  },
  {
   "cell_type": "code",
   "execution_count": null,
   "metadata": {},
   "outputs": [],
   "source": [
    "# 6. Count Number of Lowercase Characters in a String:\n",
    "\n",
    "n1 = input('Enter a string: ')\n",
    "\n",
    "a=0\n",
    "for i in n1:\n",
    "    if(i.islower()):\n",
    "       a=a+1\n",
    "\n",
    "print('Lower digit count: {a}'.format(a=a))"
   ]
  },
  {
   "cell_type": "code",
   "execution_count": null,
   "metadata": {},
   "outputs": [],
   "source": [
    "# 7. Program to check if a Substring is Present in a Given String:\n",
    "n1 = 'This is a python string' #given string\n",
    "n2='python' #substring to check\n",
    "if(n1.find(n2)==-1):\n",
    "    print('substring is not there')\n",
    "else:\n",
    "    print('substring is there')"
   ]
  },
  {
   "cell_type": "code",
   "execution_count": null,
   "metadata": {},
   "outputs": [],
   "source": []
  }
 ],
 "metadata": {
  "kernelspec": {
   "display_name": "Python 3",
   "language": "python",
   "name": "python3"
  },
  "language_info": {
   "codemirror_mode": {
    "name": "ipython",
    "version": 3
   },
   "file_extension": ".py",
   "mimetype": "text/x-python",
   "name": "python",
   "nbconvert_exporter": "python",
   "pygments_lexer": "ipython3",
   "version": "3.8.5"
  }
 },
 "nbformat": 4,
 "nbformat_minor": 4
}
