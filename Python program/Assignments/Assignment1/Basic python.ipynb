{
 "cells": [
  {
   "cell_type": "markdown",
   "metadata": {},
   "source": [
    "#Python Basic Programs\n",
    "1. Print Hello world! :\n",
    "2. Declare the following variables: Int, Float, Boolean, String & print its value.\n",
    "3. Program to calculate the Area Of Triangle:\n",
    "4. Program to calculate area of a square.\n",
    "5. Program to swap two variables:\n",
    "6. Program is to check if a number is positive, negative or zero.\n",
    "7. Program is to check if a number is Even or Odd.\n",
    "8. Program to print Odd number within a given range.\n",
    "9. Python program to find the factorial of a number.\n",
    "10.Program to reverse a given number.\n",
    "11.Program to find out the sum of N Natural numbers."
   ]
  },
  {
   "cell_type": "code",
   "execution_count": null,
   "metadata": {},
   "outputs": [],
   "source": [
    "# 1. Print Hello world! :\n",
    "print ('Hello world!')"
   ]
  },
  {
   "cell_type": "code",
   "execution_count": null,
   "metadata": {},
   "outputs": [],
   "source": [
    "# 2. Declare the following variables: Int, Float, Boolean, String & print its value.\n",
    "var_int = 10\n",
    "var_float = 6.7\n",
    "var_bool = True\n",
    "var_str = \"Hello\"\n",
    "\n",
    "print(var_int)\n",
    "print(var_float)\n",
    "print(var_bool)\n",
    "print(var_str)"
   ]
  },
  {
   "cell_type": "code",
   "execution_count": null,
   "metadata": {},
   "outputs": [],
   "source": [
    "# 3. Program to calculate the Area Of Triangle:\n",
    "height = 20\n",
    "base = 10\n",
    "area_traingle = 1/2*base*height\n",
    "print(\"Area of traingle is {area}\".format(area=area_traingle))"
   ]
  },
  {
   "cell_type": "code",
   "execution_count": null,
   "metadata": {},
   "outputs": [],
   "source": [
    "# 4. Program to calculate area of a square.\n",
    "side_len = 5\n",
    "area_square = side_len*side_len\n",
    "print(\"Area of square is {area}\".format(area=area_square))"
   ]
  },
  {
   "cell_type": "code",
   "execution_count": null,
   "metadata": {},
   "outputs": [],
   "source": [
    "# 5. Program to swap two variables:\n",
    "a=10\n",
    "b=20\n",
    "print('a declared as: {a}'.format(a=a))\n",
    "print('b declared as: {b}'.format(b=b))\n",
    "a=a+b\n",
    "b=a-b\n",
    "a=a-b\n",
    "print('a after swap: {a}'.format(a=a))\n",
    "print('b after swap: {b}'.format(b=b))\n"
   ]
  },
  {
   "cell_type": "code",
   "execution_count": 9,
   "metadata": {
    "scrolled": true
   },
   "outputs": [
    {
     "name": "stdout",
     "output_type": "stream",
     "text": [
      "enter a number:-22.3.\n",
      "Not a valid input\n"
     ]
    }
   ],
   "source": [
    "# 6. Program is to check if a number is positive, negative or zero.\n",
    "\n",
    "n1 = input('enter a number:')\n",
    "\n",
    "if(n1.isdigit() or n1.replace('.','',1).isdigit()):\n",
    "    if(float(n1)==0):\n",
    "        print('Enter number is Zero')\n",
    "    else:\n",
    "        print('Enter number is Positive')\n",
    "else:\n",
    "    if((n1.count('-') == 1) and (n1.index('-')==0)):\n",
    "        if(n1.replace('-','',1).isdigit()):\n",
    "            print('Enter number is Negative')\n",
    "        else:\n",
    "            print('Not a valid input')\n",
    "    else:\n",
    "        print('Not a valid input')"
   ]
  },
  {
   "cell_type": "code",
   "execution_count": null,
   "metadata": {},
   "outputs": [],
   "source": [
    "## 7. Program is to check if a number is Even or Odd.\n",
    "\n",
    "n1 = input('enter a number:')\n",
    "# print(n1.index('.'))\n",
    "# if (n1.index('.') >= 0):\n",
    "#     print('please enter non-decimal number')\n",
    "#     break\n",
    "# if(n1.replace('.','',1).isdigit()):\n",
    "#      print('please enter non-decimal number')\n",
    "if (int(n1)%2 == 0):\n",
    "    print('even number')\n",
    "else:\n",
    "    print('odd number')"
   ]
  },
  {
   "cell_type": "code",
   "execution_count": null,
   "metadata": {},
   "outputs": [],
   "source": [
    "# 8. Program to print Odd number within a given range.\n",
    "n1 = input('enter start number:')\n",
    "n2 = input('enter start number:')\n",
    "for i in range (int(n1),int(n2)):\n",
    "    if (i%2!=0):\n",
    "        print(i)"
   ]
  },
  {
   "cell_type": "code",
   "execution_count": null,
   "metadata": {},
   "outputs": [],
   "source": [
    "# 9. Python program to find the factorial of a number.\n",
    "n1 = input('enter a number:')\n",
    "fact=1;\n",
    "for i in range(1,int(n1)):\n",
    "    fact=fact*(i+1)\n",
    "\n",
    "print(fact)"
   ]
  },
  {
   "cell_type": "code",
   "execution_count": null,
   "metadata": {},
   "outputs": [],
   "source": [
    "## 10.Program to reverse a given number.\n",
    "\n",
    "n1 = input('enter a number:')\n",
    "\n",
    "rev_no=0;\n",
    "while(int(n1)>0):\n",
    "    remainder = int(n1)%10\n",
    "    rev_no = rev_no*10+remainder\n",
    "    n1 = int(n1)//10\n",
    "print(rev_no)\n"
   ]
  },
  {
   "cell_type": "code",
   "execution_count": null,
   "metadata": {},
   "outputs": [],
   "source": [
    "# 11.Program to find out the sum of N Natural numbers.\n",
    "n1 = input('enter a number:')\n",
    "sum=1;\n",
    "for i in range(1,int(n1)):\n",
    "    sum=sum+(i+1)\n",
    "print(sum)"
   ]
  },
  {
   "cell_type": "code",
   "execution_count": null,
   "metadata": {},
   "outputs": [],
   "source": []
  }
 ],
 "metadata": {
  "kernelspec": {
   "display_name": "Python 3",
   "language": "python",
   "name": "python3"
  },
  "language_info": {
   "codemirror_mode": {
    "name": "ipython",
    "version": 3
   },
   "file_extension": ".py",
   "mimetype": "text/x-python",
   "name": "python",
   "nbconvert_exporter": "python",
   "pygments_lexer": "ipython3",
   "version": "3.8.5"
  }
 },
 "nbformat": 4,
 "nbformat_minor": 4
}
