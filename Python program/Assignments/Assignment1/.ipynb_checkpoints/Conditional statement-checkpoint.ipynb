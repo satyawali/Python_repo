{
 "cells": [
  {
   "cell_type": "code",
   "execution_count": 13,
   "metadata": {},
   "outputs": [
    {
     "name": "stdout",
     "output_type": "stream",
     "text": [
      "Enter a number from 0 to 9: 1\n",
      "one\n"
     ]
    }
   ],
   "source": [
    "# 1. W. A P. which takes one number from 0 to 9 from the user and prints it in the word. \n",
    "# And if the word is not from 0 to 9 then it should print that\n",
    "# number is outside of the range and program should exit.\n",
    "#  For example:-\n",
    "#  input = 1\n",
    "#  output = one\n",
    "\n",
    "n1 = input('Enter a number from 0 to 9: ')\n",
    "num_count= '0123456789'\n",
    "num_word = ('zero','one','two','three','four','five','six','seven','eight','nine')\n",
    "\n",
    "if(int(n1)<0 or int(n1)>9):\n",
    "    print('number is outside range!')\n",
    "else:\n",
    "    indx=num_count.find(n1)\n",
    "    print(num_word[indx])\n"
   ]
  },
  {
   "cell_type": "code",
   "execution_count": 4,
   "metadata": {},
   "outputs": [
    {
     "name": "stdout",
     "output_type": "stream",
     "text": [
      "Enter number1: 5\n",
      "Enter number2: 5\n",
      "Please select any one operation from below:-\n",
      " 1. To add enter 1 \n",
      " 2. to subtract enter 2 \n",
      " 3. To multiply enter 3 \n",
      " 4. To divide enter 4 \n",
      " 5. To divide and find quotient enter 5 \n",
      " 6. To divide and find remainder enter 6 \n",
      " 7. To find num1 to the power of num2 enter 7 \n",
      " 8. To Come out of the program enter 8 \n",
      "\n",
      "choice: 8\n"
     ]
    }
   ],
   "source": [
    "# 2. W. A P. to implement calculator but the operation to be done and two\n",
    "# numbers will be taken as input from user:- Operation console should\n",
    "# show below:-\n",
    "# Please select any one operation from below:-\n",
    "# 1. To add enter 1\n",
    "# 2. to subtract enter 2\n",
    "# 3. To multiply enter 3\n",
    "# 4. To divide enter 4\n",
    "# 5. To divide and find quotient enter 5\n",
    "# 6. To divide and find remainder enter 6\n",
    "# 7. To find num1 to the power of num2 enter 7\n",
    "# 8. To Come out of the program enter 8\n",
    "n1_ = input('Enter number1: ')\n",
    "n2_ = input('Enter number2: ')\n",
    "print('Please select any one operation from below:-\\n 1. To add enter 1 \\n 2. to subtract enter 2 \\n 3. To multiply enter 3 \\n 4. To divide enter 4 \\n 5. To divide and find quotient enter 5 \\n 6. To divide and find remainder enter 6 \\n 7. To find num1 to the power of num2 enter 7 \\n 8. To Come out of the program enter 8 \\n')\n",
    "operation = input('choice: ')\n",
    "\n",
    "n1 = int(n1_)\n",
    "n2=int(n2_)\n",
    "if (operation=='8'):\n",
    "    pass\n",
    "else:\n",
    "    if (operation == '1'):\n",
    "        result = n1+n2\n",
    "    elif (operation == '2'):\n",
    "        result = n1-n2\n",
    "    elif (operation == '3'):\n",
    "        result = n1*n2\n",
    "    elif (operation == '4'):\n",
    "        result = n1/n2\n",
    "    elif (operation == '5'):\n",
    "        result = n1//n2\n",
    "    elif (operation == '6'):\n",
    "        result = n1%n2\n",
    "    elif (operation == '7'):\n",
    "        result = n1**n2\n",
    "    print(result)"
   ]
  },
  {
   "cell_type": "code",
   "execution_count": 33,
   "metadata": {},
   "outputs": [
    {
     "name": "stdout",
     "output_type": "stream",
     "text": [
      "enter a year: 2012\n",
      "Its a leap year\n"
     ]
    }
   ],
   "source": [
    "# 3. W A P to check whether a year entered by user is an leap year or not?\n",
    "#  Check with below input:-\n",
    "# i. leap year:- 2012, 1968, 2004, 1200, 1600,2400\n",
    "# ii. Non-leap year:- 1971, 2006, 1700,1800,1900\n",
    "n1=input('enter a year: ')\n",
    "if (int(n1)%400==0):\n",
    "    print('Its a leap year')\n",
    "elif(int(n1)%100==0):\n",
    "    print('Its not a leap year')\n",
    "elif(int(n1)%4==0):\n",
    "    print('Its a leap year')\n",
    "else:\n",
    "    print('Its not a leap year')"
   ]
  },
  {
   "cell_type": "code",
   "execution_count": 41,
   "metadata": {},
   "outputs": [
    {
     "name": "stdout",
     "output_type": "stream",
     "text": [
      "enter a number: 100\n",
      "Even number\n"
     ]
    }
   ],
   "source": [
    "# 4. W A P which takes one number from the user and checks whether it is\n",
    "# an even or odd number? If it even then prints number is even number\n",
    "# else prints that number is odd number.\n",
    "n1=input('enter a number: ')\n",
    "if(int(n1)%2==0):\n",
    "    print('Even number')\n",
    "else:\n",
    "    print('Odd number')"
   ]
  },
  {
   "cell_type": "code",
   "execution_count": 27,
   "metadata": {},
   "outputs": [
    {
     "name": "stdout",
     "output_type": "stream",
     "text": [
      "enter num1: 7\n",
      "enter num2: 60\n",
      "7 is smaller than 60\n"
     ]
    }
   ],
   "source": [
    "# 5. W A P which takes two numbers from the user and prints below output:-\n",
    "#  num1 is greater than num2 if num1 is greater than num2\n",
    "#  num1 is smaller than num2 if num1 is smaller than num2\n",
    "#  num1 is equal to num2 if num1 and num2 are equal\n",
    "#  Note: -\n",
    "# 1. Do this problem using if - else\n",
    "# 2. Do this using ternary operator\n",
    "n1=input('enter num1: ')\n",
    "n2=input('enter num2: ')\n",
    "if (int(n1)!=int(n2)):\n",
    "    if (int(n1)>int(n2)):\n",
    "        print('{num1} is greater than {num2}'.format(num1=n1, num2=n2))\n",
    "    else:\n",
    "        print('{num1} is smaller than {num2}'.format(num1=n1, num2=n2))\n",
    "else:\n",
    "    print('{num1} is equal to {num2}'.format(num1=n1, num2=n2))"
   ]
  },
  {
   "cell_type": "code",
   "execution_count": null,
   "metadata": {},
   "outputs": [],
   "source": [
    "#5 using ternary operator\n",
    "n1=input('enter num1: ')\n",
    "n2=input('enter num2: ')\n",
    "print('{n1} is greater than {n2}'.format(n1=n1,n2=n2) if int(n1)>int(n2) else '{n2} is greater than {n1}'.format(n1=n1,n2=n2) if int(n2)>int(n1) else 'both no are equal')"
   ]
  },
  {
   "cell_type": "code",
   "execution_count": 79,
   "metadata": {},
   "outputs": [
    {
     "name": "stdout",
     "output_type": "stream",
     "text": [
      "enter num1: 629\n",
      "enter num2: 3\n",
      "enter num3: 999\n",
      "999  is greater than  629  and  3\n"
     ]
    }
   ],
   "source": [
    "# 6. W A P which takes three numbers from the user and prints below\n",
    "# output:-\n",
    "#  num1 is greater than num2 and num3 if num1 is greater than num2 and num3\n",
    "#  num2 is greater than num1 and num3 if num2 is greater than num1 and num3\n",
    "#  num3 is greater than num1 and num2 if num3 is greater than num1 and num2\n",
    "#  Note:-\n",
    "# i. 1. Do this problem using if - elif - else\n",
    "# ii. 2. Do this using ternary operator\n",
    "# Loops - for loop, while loop\n",
    "\n",
    "n1 = input('enter num1: ')\n",
    "n2 = input('enter num2: ')\n",
    "n3 = input('enter num3: ')\n",
    "\n",
    "if(n1==n2==n3):\n",
    "    print('all numbers are same')\n",
    "else:\n",
    "    if (int(n1)>int(n2) and int(n1)>int(n3)):\n",
    "        val=[n1,n2,n3]\n",
    "    elif (int(n2)>int(n1) and int(n2)>int(n3)):\n",
    "        val=[n2,n1,n3]\n",
    "    elif (int(n3)>int(n1) and int(n3)>int(n2)):\n",
    "        val=[n3,n1,n2]\n",
    "    print(val[0],' is greater than ',val[1],' and ',val[2])"
   ]
  },
  {
   "cell_type": "code",
   "execution_count": 77,
   "metadata": {},
   "outputs": [
    {
     "name": "stdout",
     "output_type": "stream",
     "text": [
      "enter num1: 491\n",
      "enter num2: 666\n",
      "enter num3: 2\n",
      "666  is greater than  491  and  2\n"
     ]
    }
   ],
   "source": [
    "#6 using ternary operator\n",
    "n1 = input('enter num1: ')\n",
    "n2 = input('enter num2: ')\n",
    "n3 = input('enter num3: ')\n",
    "\n",
    "if(n1==n2==n3):\n",
    "    print('all numbers are same')\n",
    "else:\n",
    "    val=[n1,n2,n3] if(int(n1)>int(n2) and int(n1)>int(n3)) else [n2,n1,n3] if(int(n2)>int(n1) and int(n2)>int(n3)) else [n3,n1,n2]\n",
    "    print(val[0],' is greater than ',val[1],' and ',val[2])"
   ]
  },
  {
   "cell_type": "code",
   "execution_count": 117,
   "metadata": {},
   "outputs": [
    {
     "name": "stdout",
     "output_type": "stream",
     "text": [
      "length is  55\n"
     ]
    }
   ],
   "source": [
    "# 7. Write a Python program to find the length of the my_str using loop\n",
    "#  Input:- 'Write a Python program to find the length of the my_str'\n",
    "#  Output:- 55\n",
    "n1 = 'Write a Python program to find the length of the my_str'\n",
    "count=0\n",
    "for i in n1:\n",
    "    count+=1\n",
    "print('length is ',count)"
   ]
  },
  {
   "cell_type": "code",
   "execution_count": 121,
   "metadata": {},
   "outputs": [
    {
     "name": "stdout",
     "output_type": "stream",
     "text": [
      "output:  9\n"
     ]
    }
   ],
   "source": [
    "# 8. Write a Python program to find the total number of times letter 'p' is\n",
    "# appeared in the below string using loop:-\n",
    "#  Input:- 'peter piper picked a peck of pickled peppers.\\n'\n",
    "#  Output:- 9\n",
    "n1 = 'peter piper picked a peck of pickled peppers.\\n'\n",
    "count=0\n",
    "for i in n1:\n",
    "    if i=='p': count+=1\n",
    "    \n",
    "print('output: ',count)"
   ]
  },
  {
   "cell_type": "code",
   "execution_count": 138,
   "metadata": {},
   "outputs": [
    {
     "name": "stdout",
     "output_type": "stream",
     "text": [
      "0\n",
      "6\n",
      "8\n",
      "12\n",
      "21\n",
      "29\n",
      "37\n",
      "39\n",
      "40\n"
     ]
    }
   ],
   "source": [
    "# 9. Q. Write a Python Program, to print all the indexes of all occurrences of\n",
    "# letter 'p' appeared in the string using loop:-\n",
    "#  Input: - 'peter piper picked a peck of pickled peppers.'\n",
    "#  Output:-\n",
    "#  0\n",
    "#  6\n",
    "#  8\n",
    "#  12\n",
    "#  21\n",
    "#  29\n",
    "#  37\n",
    "#  39\n",
    "#  40\n",
    "n1 = 'peter piper picked a peck of pickled peppers'\n",
    "count=0;\n",
    "for i in n1:\n",
    "    if i=='p': print(count)\n",
    "    count+=1"
   ]
  },
  {
   "cell_type": "code",
   "execution_count": 138,
   "metadata": {},
   "outputs": [
    {
     "name": "stdout",
     "output_type": "stream",
     "text": [
      "'peter','piper','picked','a','peck','of','pickled','peppers\n"
     ]
    }
   ],
   "source": [
    "# 10. Write a python program to find below output using loop:-\n",
    "#  Input: - 'peter piper picked a peck of pickled peppers.'\n",
    "#  Output:- ['peter', 'piper', 'picked', 'a', 'peck', 'of', 'pickled',\n",
    "# 'peppers']\n",
    "\n",
    "n1 = 'peter piper picked a peck of pickled peppers'\n",
    "final_str=''\n",
    "ctr=0\n",
    "new_ctr=0\n",
    "for i in n1:\n",
    "    if i != ' ': \n",
    "        ctr+=1\n",
    "    else:\n",
    "        final_str=final_str+\"'\"+n1[new_ctr:ctr]+\"',\"\n",
    "        ctr+=1\n",
    "        new_ctr=ctr\n",
    "\n",
    "final_str = final_str+\"'\"+(n1[new_ctr:ctr])+\"'\"       \n",
    "print(final_str[0:len(final_str)-1])\n"
   ]
  },
  {
   "cell_type": "code",
   "execution_count": 142,
   "metadata": {},
   "outputs": [
    {
     "name": "stdout",
     "output_type": "stream",
     "text": [
      "peppers pickled of peck a picked piper peter\n"
     ]
    }
   ],
   "source": [
    "# 11. Write a python program to find below output using loop:-\n",
    "#  Input: - 'peter piper picked a peck of pickled peppers.'\n",
    "#  Output:- 'peppers pickled of peck a picked piper peter'\n",
    "\n",
    "n1='peter piper picked a peck of pickled peppers'\n",
    "final_str=[]\n",
    "\n",
    "ctr=0\n",
    "new_ctr=0\n",
    "\n",
    "for i in n1:\n",
    "    if i != ' ': \n",
    "        ctr+=1\n",
    "    else:\n",
    "        final_str.append(n1[new_ctr:ctr])\n",
    "        ctr+=1\n",
    "        new_ctr=ctr\n",
    "\n",
    "final_str.append(n1[new_ctr:ctr])         \n",
    "final_str.reverse();\n",
    "print(\" \".join(final_str))"
   ]
  },
  {
   "cell_type": "code",
   "execution_count": 141,
   "metadata": {},
   "outputs": [
    {
     "name": "stdout",
     "output_type": "stream",
     "text": [
      ".sreppep delkcip fo kcep a dekcip repip retep\n"
     ]
    }
   ],
   "source": [
    "# 12. Write a python program to find below output using loop:-\n",
    "#  Input: - 'peter piper picked a peck of pickled peppers.'\n",
    "#  Output:- '.sreppep delkcip fo kcep a dekcip repip retep'\n",
    "n1 = 'peter piper picked a peck of pickled peppers.'\n",
    "output=''\n",
    "ctr=0\n",
    "for i in n1:\n",
    "    output = output+n1[ctr-1:ctr-2:-1]\n",
    "    ctr-=1\n",
    "print (output)"
   ]
  },
  {
   "cell_type": "code",
   "execution_count": 161,
   "metadata": {},
   "outputs": [
    {
     "name": "stdout",
     "output_type": "stream",
     "text": [
      "['peter', 'piper', 'picked', 'a', 'peck', 'of', 'pickled', 'peppers']\n",
      "'retep repip dekcip a kcep fo delkcip sreppep'\n"
     ]
    }
   ],
   "source": [
    "# 13.Write a python program to find below output using loop:-\n",
    "#  Input: - 'peter piper picked a peck of pickled peppers.'\n",
    "#  Output:- 'retep repip dekcip a kcep fo delkcip sreppep'\n",
    "\n",
    "n1 = 'peter piper picked a peck of pickled peppers'\n",
    "final_str=n1.split()\n",
    "print(final_str)\n",
    "ctr=0\n",
    "for i in final_str:\n",
    "    t_ = i\n",
    "    t_ = t_[-1:-len(t_)-1:-1]\n",
    "    final_str[ctr]=t_\n",
    "    ctr+=1\n",
    "    \n",
    "print(\"'\"+\" \".join(final_str)+\"'\")"
   ]
  },
  {
   "cell_type": "code",
   "execution_count": 108,
   "metadata": {},
   "outputs": [
    {
     "name": "stdout",
     "output_type": "stream",
     "text": [
      "peter piper picked A peck of pickled peppers\n"
     ]
    }
   ],
   "source": [
    "# 14.Write a python program to find below output using loop:-\n",
    "#  Input: - 'peter piper picked a peck of pickled peppers.'\n",
    "#  Output:- 'Peter Piper Picked A Peck Of Pickled Peppers'\n",
    "n1='peter piper picked a peck of pickled peppers'\n",
    "final_str=[]\n",
    "ctr=0\n",
    "new_ctr=0\n",
    "\n",
    "for i in n1:\n",
    "    if i != ' ': \n",
    "        ctr+=1\n",
    "    else:\n",
    "        final_str.append(n1[new_ctr:ctr])\n",
    "        ctr+=1\n",
    "        new_ctr=ctr\n",
    "\n",
    "final_str.append(n1[new_ctr:ctr])     \n",
    "final_str.remove('a')\n",
    "final_str.insert(3,'A')\n",
    "print(\" \".join(final_str))"
   ]
  },
  {
   "cell_type": "code",
   "execution_count": 110,
   "metadata": {},
   "outputs": [
    {
     "name": "stdout",
     "output_type": "stream",
     "text": [
      "peter piper picked a peck of pickled peppers\n"
     ]
    }
   ],
   "source": [
    "# 15.Write a python program to find below output using loop:-\n",
    "#  Input: - 'Peter Piper Picked A Peck Of Pickled Peppers.'\n",
    "#  Output:- 'Peter piper picked a peck of pickled peppers'\n",
    "n1='peter piper picked A peck of pickled peppers'\n",
    "final_str=[]\n",
    "ctr=0\n",
    "new_ctr=0\n",
    "\n",
    "for i in n1:\n",
    "    if i != ' ': \n",
    "        ctr+=1\n",
    "    else:\n",
    "        final_str.append(n1[new_ctr:ctr])\n",
    "        ctr+=1\n",
    "        new_ctr=ctr\n",
    "\n",
    "final_str.append(n1[new_ctr:ctr])     \n",
    "final_str.remove('A')\n",
    "final_str.insert(3,'a')\n",
    "print(\" \".join(final_str))"
   ]
  },
  {
   "cell_type": "code",
   "execution_count": 183,
   "metadata": {},
   "outputs": [
    {
     "name": "stdout",
     "output_type": "stream",
     "text": [
      "29\n"
     ]
    }
   ],
   "source": [
    "# 16.Write a python program to implement index method using loop. If\n",
    "# sub_str is found in my_str then it will print the index of first occurrence\n",
    "# of first character of matching string in my_str:-\n",
    "#  Input: - my_str = 'Peter Piper Picked A Peck Of Pickled Peppers.',\n",
    "#  sub_str = 'Pickl'\n",
    "#  Output:- 29\n",
    "\n",
    "n1 = 'Peter Piper Picked A Peck Of Pickled Peppers'\n",
    "n1_list = n1.split()\n",
    "sub_str = 'Pickl'\n",
    "for i in n1_list:\n",
    "    if i.find(sub_str)>=0 :  # check if the substr position in th string (1st position-0, 2nd position-1...)\n",
    "        print(n1.index(i));\n"
   ]
  },
  {
   "cell_type": "code",
   "execution_count": 347,
   "metadata": {},
   "outputs": [
    {
     "name": "stdout",
     "output_type": "stream",
     "text": [
      "Peter Piper Picked A Pack Of Pickled Peppers\n"
     ]
    }
   ],
   "source": [
    "# 17.Write a python program to implement replace method using loop. If\n",
    "# sub_str is found in my_str then it will replace the first occurrence of\n",
    "# sub_str with new_str else it will will print sub_str not found:-\n",
    "#  Input: - my_str = 'Peter Piper Picked A Peck Of Pickled Peppers.',\n",
    "#  sub_str = 'Peck', new_str = 'Pack'\n",
    "#  Output: - 'Peter Piper Picked A Pack Of Pickled Peppers.'\n",
    "\n",
    "n1 = 'Peter Piper Picked A Peck Of Pickled Peppers'\n",
    "sub_str = 'Peck' \n",
    "new_str = 'Pack'\n",
    "n1_list = n1.split()\n",
    "ctr=0;\n",
    "for i in n1_list:\n",
    "    if i.find(sub_str)>=0: \n",
    "        before_ss=i[0:i.find(sub_str)]\n",
    "        after_ss=i[len(sub_str):len(i)]\n",
    "        n1_list[ctr]=before_ss+new_str+after_ss\n",
    "    ctr+=1;\n",
    "print(\" \".join(n1_list))\n"
   ]
  },
  {
   "cell_type": "code",
   "execution_count": 368,
   "metadata": {},
   "outputs": [
    {
     "name": "stdout",
     "output_type": "stream",
     "text": [
      "45\n",
      "21\n",
      "Peter Piper Picked A Peck Of Pickled Peppers.\n",
      "*********************Peck********************\n"
     ]
    }
   ],
   "source": [
    "# 18.Write a python program to find below output (implements rjust and\n",
    "# ljust) using loop:-\n",
    "#  Input: - 'Peter Piper Picked A Peck Of Pickled Peppers.'\n",
    "#  sub_str ='Peck',\n",
    "#  Output:- '*********************Peck********************'\n",
    "\n",
    "n1 = 'Peter Piper Picked A Peck Of Pickled Peppers.'\n",
    "sub_str ='Peck'\n",
    "print(len(n1));\n",
    "print(n1.find(sub_str))\n",
    "\n",
    "first_part = n1[0:n1.find(sub_str)]\n",
    "second_part = n1[len(first_part)+len(sub_str):len(n1)]\n",
    "\n",
    "print(first_part+sub_str+second_part)\n",
    "\n",
    "print(''.rjust(len(first_part),'*')+sub_str+''.ljust(len(second_part),'*'))\n",
    "\n",
    "# print(n1.rjust(100,'S'),n1.ljust(100,'T'))\n",
    "# print(n1.ljust(100,'T'))\n",
    "# Not learned till now*********"
   ]
  },
  {
   "cell_type": "code",
   "execution_count": null,
   "metadata": {},
   "outputs": [],
   "source": [
    "# 19.Write a python program to find below output using loop:-\n",
    "#  Input:- 'This is Python class', sep = ' is',\n",
    "#  Output:- ['This', 'Python class']\n",
    "\n",
    "n1 = 'This is Python class'\n",
    "sep = ' is '\n",
    "n1_list=n1.split(\" is \")\n",
    "print(n1_list)\n"
   ]
  },
  {
   "cell_type": "code",
   "execution_count": 355,
   "metadata": {},
   "outputs": [
    {
     "name": "stdout",
     "output_type": "stream",
     "text": [
      "Enter a number: ss\n",
      "Enter only Integer value\n"
     ]
    }
   ],
   "source": [
    "# 20. WAP to read input from user. Allow the user to enter more numbers as\n",
    "# long as the user enters valid integers. Terminate the program with\n",
    "# proper message when they entered value is anything except integer.\n",
    "\n",
    "flag = True\n",
    "while (flag):\n",
    "    n1 = input('Enter a number: ')\n",
    "    if n1.isdigit():\n",
    "        pass\n",
    "    elif(n1.count('-')==1 and n1.index('-')==0):\n",
    "        if (n1.replace('-','',1).isdigit()):\n",
    "            pass\n",
    "    else:\n",
    "        print(\"Enter only Integer value\")\n",
    "        flag=False\n"
   ]
  },
  {
   "cell_type": "code",
   "execution_count": 281,
   "metadata": {},
   "outputs": [
    {
     "name": "stdout",
     "output_type": "stream",
     "text": [
      "Enter a number: 44-55\n",
      "invalid entry\n"
     ]
    }
   ],
   "source": [
    "# 21. WAP to read input from a user. Allow the user to enter more numbers\n",
    "# as long as the user enters valid numbers. Terminate the program with\n",
    "# proper message when the user enters a value anything except valid\n",
    "# number.\n",
    "flag = True\n",
    "while (flag):\n",
    "    n1 = input('Enter a number: ')\n",
    "    if n1.isdigit():\n",
    "        pass\n",
    "    elif(n1.count('.')==1 and n1.replace('.','',1).isdigit()):\n",
    "        pass\n",
    "    elif(n1.count('-')==1 and n1.index('-')==0):\n",
    "        if(n1.replace('-','',1).isdigit()):\n",
    "            pass\n",
    "    else:\n",
    "        print(\"invalid entry\")\n",
    "        flag=False\n"
   ]
  },
  {
   "cell_type": "code",
   "execution_count": 282,
   "metadata": {},
   "outputs": [
    {
     "name": "stdout",
     "output_type": "stream",
     "text": [
      "Enter a number: 22\n",
      "Enter a number: dd\n",
      "invalid entry 1\n",
      "Enter a number: ss\n",
      "invalid entry 2\n",
      "Enter a number: dd\n",
      "invalid entry 3\n",
      "Enter a number: 33-4\n",
      "invalid entry 4\n",
      "Enter a number: 3\n",
      "Enter a number: 2\n",
      "Enter a number: 4.5\n",
      "Enter a number: .5\n",
      "Enter a number: -3\n",
      "Enter a number: 3.-\n",
      "invalid entry 1\n",
      "Enter a number: s\n",
      "invalid entry 2\n",
      "Enter a number: s\n",
      "invalid entry 3\n",
      "Enter a number: s\n",
      "invalid entry 4\n",
      "Enter a number: s\n",
      "invalid entry 5\n"
     ]
    }
   ],
   "source": [
    "# 22. WAP to read input from a user. Allow the user to enter more numbers\n",
    "# as long as the user enters valid numbers. Terminate the program with\n",
    "# proper message when the user enters a value anything except valid\n",
    "# number. Allow wrong entry 'N' times.\n",
    "\n",
    "flag = True\n",
    "ctr=0;\n",
    "while (flag):\n",
    "    n1 = input('Enter a number: ')\n",
    "    if n1.isdigit():\n",
    "        pass\n",
    "        ctr=0;\n",
    "    elif(n1.count('.')==1 and n1.replace('.','',1).isdigit()):\n",
    "        pass\n",
    "        ctr=0;\n",
    "    elif(n1.count('-')==1 and n1.index('-')==0):\n",
    "        if(n1.replace('-','',1).isdigit()):\n",
    "            pass\n",
    "            ctr=0;\n",
    "    else:\n",
    "        print('invalid entry',ctr+1)\n",
    "        ctr+=1\n",
    "        if(ctr==5):\n",
    "            flag=False\n",
    "            ctr=0;"
   ]
  },
  {
   "cell_type": "code",
   "execution_count": null,
   "metadata": {},
   "outputs": [],
   "source": []
  }
 ],
 "metadata": {
  "kernelspec": {
   "display_name": "Python 3",
   "language": "python",
   "name": "python3"
  },
  "language_info": {
   "codemirror_mode": {
    "name": "ipython",
    "version": 3
   },
   "file_extension": ".py",
   "mimetype": "text/x-python",
   "name": "python",
   "nbconvert_exporter": "python",
   "pygments_lexer": "ipython3",
   "version": "3.8.5"
  }
 },
 "nbformat": 4,
 "nbformat_minor": 4
}
