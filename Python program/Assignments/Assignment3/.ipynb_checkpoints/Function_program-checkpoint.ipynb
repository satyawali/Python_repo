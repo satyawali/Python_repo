{
 "cells": [
  {
   "cell_type": "code",
   "execution_count": 3,
   "metadata": {},
   "outputs": [
    {
     "name": "stdout",
     "output_type": "stream",
     "text": [
      "30\n"
     ]
    }
   ],
   "source": [
    "# 1. Define a Sum Function which accepts variable number of integers as an\n",
    "# arguments\n",
    "\n",
    "def sum_(a1,a2):\n",
    "    print(a1+a2)\n",
    "\n",
    "sum_(10,20)"
   ]
  },
  {
   "cell_type": "code",
   "execution_count": 71,
   "metadata": {},
   "outputs": [
    {
     "name": "stdout",
     "output_type": "stream",
     "text": [
      "Enter a number : 5\n",
      "120\n"
     ]
    }
   ],
   "source": [
    "# 2. WAF to find factorial of a positive number. Return -1 if input to the\n",
    "# function is any invalid input.\n",
    "# 3. Using for loop\n",
    "# 4. Using while loop\n",
    "# 5. Using recursive function (note: recursive function are computationally\n",
    "# expensive)\n",
    "\n",
    "n1 = input('Enter a number : ')\n",
    "\n",
    "# Using for loop\n",
    "# def fact(n1):\n",
    "#     if str(n1).isdigit() == False:\n",
    "#         return '-1'\n",
    "#     else:\n",
    "#         fac=1\n",
    "#         for i in range(1,int(n1)):\n",
    "#             fac += fac*i\n",
    "#         return fac\n",
    "# print(fact(n1))\n",
    "\n",
    "# Using while loop\n",
    "# def fact(n1):\n",
    "#     if str(n1).isdigit() == False:\n",
    "#         return '-1'\n",
    "#     else:\n",
    "#         fac=i=1\n",
    "#         while i< int(n1):\n",
    "#             fac += fac*i\n",
    "#             i+=1\n",
    "            \n",
    "#         return fac\n",
    "\n",
    "# print(fact(n1))\n",
    "\n",
    "def rec_fact(n1):\n",
    "    if n1==1:\n",
    "        return 1;\n",
    "    else:\n",
    "        return int(n1)*rec_fact(n1-1)\n",
    "\n",
    "if str(n1).isdigit() == False:\n",
    "    print('-1')\n",
    "elif n1=='0':\n",
    "    print('1')\n",
    "else:\n",
    "    print(rec_fact(int(n1)))\n"
   ]
  },
  {
   "cell_type": "code",
   "execution_count": 108,
   "metadata": {},
   "outputs": [
    {
     "name": "stdout",
     "output_type": "stream",
     "text": [
      "Enter first number: 5\n",
      "Enter second number: 3\n",
      "original number: 5 and 3\n",
      "changed number: 3 and 5\n"
     ]
    }
   ],
   "source": [
    "# 6. WAF to swap two numbers.\n",
    "def swap(n1,n2):\n",
    "    print(\"original number: {n1} and {n2}\".format(n1=n1,n2=n2))\n",
    "    n1 = int(n1)\n",
    "    n2 = int(n2)\n",
    "    n1=n1+n2\n",
    "    n2=n1-n2\n",
    "    n1=n1-n2\n",
    "    print(\"changed number: {n1} and {n2}\".format(n1=n1,n2=n2))\n",
    "\n",
    "n1 = input('Enter first number: ')\n",
    "n2 = input('Enter second number: ')\n",
    "\n",
    "if (n1==n2):\n",
    "    if (n1.isdigit()==False or n2.isdigit()==False):\n",
    "        print('Enter valid number')\n",
    "    else:\n",
    "        print('Both numbers are same')\n",
    "elif(n1.isdigit()==False or n2.isdigit()==False):\n",
    "    print('Enter valid number')\n",
    "else:\n",
    "    swap(n1,n2)\n",
    "    "
   ]
  },
  {
   "cell_type": "code",
   "execution_count": 139,
   "metadata": {},
   "outputs": [
    {
     "name": "stdout",
     "output_type": "stream",
     "text": [
      "Enter first number: 8\n",
      "Enter second number: 5\n",
      "Enter the operation + - * / : -\n",
      "3\n"
     ]
    }
   ],
   "source": [
    "## 7. WAF to implement basic calculator.\n",
    "\n",
    "def calc(n1, n2, opr):\n",
    "    res = n1+n2 if opr=='+' else n1-n2 if opr=='-' else n1*n2 if opr=='*' else n1/n2\n",
    "    print(res)\n",
    "\n",
    "opr_list=['+','-','*','/']\n",
    "n1 = input('Enter first number: ')\n",
    "n2 = input('Enter second number: ')\n",
    "\n",
    "if (n1.isdigit()==True and n2.isdigit()==True):\n",
    "    opr = input('Enter the operation + - * / : ')\n",
    "    if (opr_list.count(opr)==1):\n",
    "        calc(int(n1),int(n2),opr)\n",
    "    else:\n",
    "        print('Enter Valid Operation')\n",
    "else:\n",
    "    print('Enter valid number')"
   ]
  },
  {
   "cell_type": "code",
   "execution_count": 3,
   "metadata": {},
   "outputs": [
    {
     "name": "stdout",
     "output_type": "stream",
     "text": [
      "25\n",
      "<function <lambda> at 0x000001E84BF25700>\n"
     ]
    }
   ],
   "source": [
    "# 8. Write a lambda function which find square of a number\n",
    "\n",
    "n1=5\n",
    "\n",
    "print(lambda n : n1*n1)"
   ]
  },
  {
   "cell_type": "code",
   "execution_count": 135,
   "metadata": {},
   "outputs": [
    {
     "name": "stdout",
     "output_type": "stream",
     "text": [
      "[2, 4, 6, 8, 10, 12, 14, 16, 18, 20, 22, 24, 26, 28, 30, 32, 34, 36, 38, 40, 42, 44, 46, 48, 50, 52, 54, 56, 58, 60, 62, 64, 66, 68, 70, 72, 74, 76, 78, 80, 82, 84, 86, 88, 90, 92, 94, 96, 98, 100]\n"
     ]
    }
   ],
   "source": [
    "# 9. Declare a List with Numbers from 1 to 100 using List Comprehension.\n",
    "# Use the lambda and filter function to filter all even numbers.\n",
    "\n",
    "# list_num = [];\n",
    "# for item in range (1,101):\n",
    "#     list_num.append(item)\n",
    "\n",
    "print(list(filter(lambda n : n%2==0, range(1,101))))"
   ]
  },
  {
   "cell_type": "code",
   "execution_count": 43,
   "metadata": {},
   "outputs": [
    {
     "data": {
      "text/plain": [
       "[0, 1, 0, 1, 0, 1, 1, 1]"
      ]
     },
     "execution_count": 43,
     "metadata": {},
     "output_type": "execute_result"
    }
   ],
   "source": [
    "# 10.[‘male’,’female’,’male’,’female’,’male’,’female’,’female’,’female’] =>\n",
    "# Replace ‘male’ with 0 and ‘female’ with 1 using lambda function and map function\n",
    "\n",
    "list_gen = ['male','female','male','female','male','female','female','female']\n",
    "\n",
    "list(map(lambda n : 0 if n=='male' else 1, list_gen))"
   ]
  },
  {
   "cell_type": "code",
   "execution_count": 132,
   "metadata": {},
   "outputs": [
    {
     "name": "stdout",
     "output_type": "stream",
     "text": [
      "[0, 1, 1, 2, 3, 5, 8, 13, 21, 34]\n"
     ]
    }
   ],
   "source": [
    "# 11.Find Fibonacci series for given length using lambda and reduce function\n",
    "\n",
    "# normal mode\n",
    "# n1=5\n",
    "# l1 = [0,1]\n",
    "# for i in range(0,5):\n",
    "#     l1.append(l1[-1] + l1[-2])\n",
    "# print(l1)\n",
    "\n",
    "#using rduce and lambda\n",
    "from functools import reduce\n",
    "\n",
    "s = lambda N: reduce(lambda x,y : x+[x[-1]+x[-2]], range(N-2),[0,1])\n",
    "print(s(10))"
   ]
  },
  {
   "cell_type": "code",
   "execution_count": null,
   "metadata": {},
   "outputs": [],
   "source": [
    "# 12.Find intersection of two arrays using lambda and filter function\n"
   ]
  },
  {
   "cell_type": "code",
   "execution_count": 180,
   "metadata": {},
   "outputs": [
    {
     "name": "stdout",
     "output_type": "stream",
     "text": [
      "<class 'bool'>\n",
      "<class 'int'>\n",
      "<class 'list'>\n"
     ]
    }
   ],
   "source": [
    "# 13.WAF to check the type of the data with the signature as follow: def find_type(var):\n",
    "# i. Examples\n",
    "# 1. Input1: var = True=> output1 = Bool type\n",
    "# 2. Input2: var = 4 => output2 = int type\n",
    "# 3. Input3: var = [3, 4, 5, 6]=> output3 = list\n",
    "\n",
    "def find_type(var):\n",
    "    print(type(var))\n",
    "    \n",
    "find_type(True)\n",
    "find_type(4)\n",
    "find_type([3, 4, 5, 6])"
   ]
  },
  {
   "cell_type": "code",
   "execution_count": 131,
   "metadata": {},
   "outputs": [
    {
     "name": "stdout",
     "output_type": "stream",
     "text": [
      "enter a number: 10\n",
      "even number !\n"
     ]
    }
   ],
   "source": [
    "# 14. WAF to check if a number is even or odd using lambda expression.\n",
    "\n",
    "inp = input('enter a number: ')\n",
    "f = (lambda n : 'even number !' if int(n)%2==0 else 'odd number !')\n",
    "print(f(inp))"
   ]
  },
  {
   "cell_type": "code",
   "execution_count": 149,
   "metadata": {
    "scrolled": true
   },
   "outputs": [
    {
     "name": "stdout",
     "output_type": "stream",
     "text": [
      "ascending order\n",
      "random order\n",
      "ascending order\n",
      "random order\n",
      "random order\n",
      "ascending order\n",
      "random order\n",
      "descending order\n",
      "descending order\n",
      "random order\n"
     ]
    }
   ],
   "source": [
    "# 15.WAF to return appropriate message as follows:\n",
    "# If the sequence is in ascending order: return “Ascending order”\n",
    "# If the sequence is in descending order: return “Descending order”\n",
    "# Else: “Random order”\n",
    "# Test case sequences:\n",
    "# (10,10,20,30,20,20)\n",
    "# (20,20,30,30,30,40,40,40)\n",
    "# (20,20,30,30,30,29,40,40,40)\n",
    "# (20,20,30,30,30,40,40,40,10)\n",
    "# (20,20,20,30,30,30,40,40,40)\n",
    "# (20,20,30,30,30,40,40,40,31)\n",
    "# (40,40,40,30,20,20,20)\n",
    "# (40,40,40,30,20,20,20,10)\n",
    "# (40,40,40,30,10,20,20)\n",
    "\n",
    "\n",
    "def sequence_test(item_list):\n",
    "    des_ctr=incr_ctr=0\n",
    "    for i in range(0,len(item_list)-1):\n",
    "        if item_list[i]==item_list[i+1]:\n",
    "            incr_ctr+=1\n",
    "            des_ctr+=1\n",
    "        elif item_list[i]>item_list[i+1]:\n",
    "            des_ctr+=1\n",
    "        else:\n",
    "            incr_ctr+=1\n",
    "    \n",
    "    if des_ctr == len(item_list)-1:\n",
    "        print('descending order')\n",
    "    elif incr_ctr == len(item_list)-1:\n",
    "        print('ascending order')\n",
    "    else:\n",
    "        print('random order')\n",
    "\n",
    "sequence_test((20,20,30,30,30,40,40,40))\n",
    "sequence_test((10,10,20,30,20,20))\n",
    "sequence_test((20,20,30,30,30,40,40,40))\n",
    "sequence_test((20,20,30,30,30,29,40,40,40))\n",
    "sequence_test((20,20,30,30,30,40,40,40,10))\n",
    "sequence_test((20,20,20,30,30,30,40,40,40))\n",
    "sequence_test((20,20,30,30,30,40,40,40,31))\n",
    "sequence_test((40,40,40,30,20,20,20))\n",
    "sequence_test((40,40,40,30,20,20,20,10))\n",
    "sequence_test((40,40,40,30,10,20,20))\n"
   ]
  },
  {
   "cell_type": "code",
   "execution_count": null,
   "metadata": {},
   "outputs": [],
   "source": []
  }
 ],
 "metadata": {
  "kernelspec": {
   "display_name": "Python 3",
   "language": "python",
   "name": "python3"
  },
  "language_info": {
   "codemirror_mode": {
    "name": "ipython",
    "version": 3
   },
   "file_extension": ".py",
   "mimetype": "text/x-python",
   "name": "python",
   "nbconvert_exporter": "python",
   "pygments_lexer": "ipython3",
   "version": "3.8.5"
  }
 },
 "nbformat": 4,
 "nbformat_minor": 4
}
