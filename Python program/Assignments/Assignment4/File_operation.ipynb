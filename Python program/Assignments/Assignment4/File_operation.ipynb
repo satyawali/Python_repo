{
 "cells": [
  {
   "cell_type": "markdown",
   "metadata": {},
   "source": [
    "File Input output Handling\n",
    "1. Python Program to Read the Contents of a File\n",
    "2. Python Program to Count the Number of Words in a Text File\n",
    "3. Python Program to Copy the Contents of One File into Another\n",
    "4. Python Program to Read a File and Capitalize the First Letter of Every Word in the File"
   ]
  },
  {
   "cell_type": "code",
   "execution_count": null,
   "metadata": {},
   "outputs": [],
   "source": [
    "1. Python Program to Read the Contents of a File\n",
    "f = open('Test_file.txt', 'r')\n",
    "print(f.read())\n",
    "f.close()"
   ]
  },
  {
   "cell_type": "code",
   "execution_count": null,
   "metadata": {},
   "outputs": [],
   "source": [
    "2. Python Program to Count the Number of Words in a Text File\n",
    "f = open('Test_file.txt', 'r')\n",
    "ls=[];\n",
    "for line in f:\n",
    "    ls=ls+line.split()\n",
    "print(len(ls))\n",
    "f.close()"
   ]
  },
  {
   "cell_type": "code",
   "execution_count": null,
   "metadata": {},
   "outputs": [],
   "source": [
    "# 3. Python Program to Copy the Contents of One File into Another\n",
    "f = open('Test_file.txt', 'r')\n",
    "f1 = open('Test_file1.txt', 'w')\n",
    "line = f.read()\n",
    "f1.write(line)\n",
    "f.close()\n",
    "f1.close()"
   ]
  },
  {
   "cell_type": "code",
   "execution_count": null,
   "metadata": {},
   "outputs": [],
   "source": [
    "# 4. Python Program to Read a File and Capitalize the First Letter of Every Word in the File\n",
    "f = open('Test_file.txt', 'r')\n",
    "\n",
    "for line in f:\n",
    "    print(line.title())\n",
    "\n",
    "f.close()"
   ]
  },
  {
   "cell_type": "markdown",
   "metadata": {},
   "source": [
    "Exception Handling\n",
    "1. WAP to read input from user. Allow the user to enter more numbers as \n",
    "long as the user enters valid integers. Terminate the program with \n",
    "proper message when they entered value is anything except integer.\n",
    "2. WAP to read input from a user. Allow the user to enter more numbers \n",
    "as long as the user enters valid numbers. Terminate the program with \n",
    "proper message when the user enters a value anything except valid \n",
    "number.\n",
    "3. WAP to read input from a user. Allow the user to enter more numbers \n",
    "as long as the user enters valid numbers. Terminate the program with \n",
    "proper message when the user enters a value anything except valid \n",
    "number. Allow wrong entry 'N' times."
   ]
  },
  {
   "cell_type": "code",
   "execution_count": null,
   "metadata": {},
   "outputs": [],
   "source": [
    "# 1. WAP to read input from user. Allow the user to enter more numbers as long as the user enters valid integers. \n",
    "# Terminate the program with proper message when they entered value is anything except integer.\n",
    "try:\n",
    "    while(True):\n",
    "        n1 = int(input('Enter an integer value :'))\n",
    "        if type(n1) == 'int':\n",
    "            continue\n",
    "except:\n",
    "    print('Enter a valid integer !')"
   ]
  },
  {
   "cell_type": "code",
   "execution_count": null,
   "metadata": {},
   "outputs": [],
   "source": [
    "# 2. WAP to read input from a user. Allow the user to enter more numbers as long as the user enters valid numbers. \n",
    "# Terminate the program with proper message when the user enters a value anything except valid number.\n",
    "try:\n",
    "    flag=0;\n",
    "    while (flag==0):\n",
    "        n1 = input('Enter a number :')\n",
    "        if n1.isdigit():\n",
    "            flag = 0\n",
    "        elif (n1.replace('.','',1).isdigit() & n1.count('.')==1):\n",
    "            flag = 0\n",
    "        elif(n1.replace('-','',1).isdigit() and n1.index('-')==0 and n1.count('-')==1):\n",
    "            flag = 0\n",
    "        else:\n",
    "            raise ValueError()\n",
    "except ValueError as e:\n",
    "    print('Enter a valid number !')"
   ]
  },
  {
   "cell_type": "code",
   "execution_count": null,
   "metadata": {},
   "outputs": [],
   "source": [
    "# 3. WAP to read input from a user. Allow the user to enter more numbers as long as the user enters valid numbers. \n",
    "# Terminate the program with proper message when the user enters a value anything except valid number. \n",
    "# Allow wrong entry 'N' times.\n",
    "\n",
    "ctr=0\n",
    "try:\n",
    "    flag=0;\n",
    "    while (flag==0):\n",
    "        n1 = input('Enter a number :')\n",
    "        if n1.isdigit():\n",
    "            flag = 0\n",
    "            ctr=0\n",
    "        elif (n1.replace('.','',1).isdigit() & n1.count('.')==1):\n",
    "            flag = 0\n",
    "            ctr=0\n",
    "        elif(n1.replace('-','',1).isdigit() and n1.index('-')==0 and n1.count('-')==1):\n",
    "            flag = 0\n",
    "            ctr=0\n",
    "        else:\n",
    "            if (ctr==4):\n",
    "                raise ValueError()\n",
    "            else:\n",
    "                ctr+=1\n",
    "except ValueError as e:\n",
    "    print('5 wrong attempt!! Enter a valid number.')"
   ]
  },
  {
   "cell_type": "markdown",
   "metadata": {},
   "source": [
    "Regular Expression\n",
    "1. Validate email id using Regular Expression\n",
    "3. Validate a credit card number using Regular Expression\n",
    "4. Find all numbers in a string using regular expression: string - adbv345hj43hvb42"
   ]
  },
  {
   "cell_type": "code",
   "execution_count": 28,
   "metadata": {
    "scrolled": true
   },
   "outputs": [
    {
     "name": "stdout",
     "output_type": "stream",
     "text": [
      "correct id - satya@gmail.com\n",
      "correct id - satya.connect@gmail.com\n",
      "incorrect id - satya2406@gmail.com\n",
      "correct id - satya2.connect@gmail.com\n",
      "correct id - sa1@gmail.com\n"
     ]
    }
   ],
   "source": [
    "# 1. Validate email id using Regular Expression\n",
    "import re\n",
    "# email = input('enter a email id')\n",
    "email = ['satya@gmail.com','satya.connect@gmail.com','satya2406@gmail.com','satya2.connect@gmail.com','sa1@gmail.com'] \n",
    "for id in email:\n",
    "    if re.search(pattern='^[a-zA-z]+[0-9]?[._]?[a-zA-z]+[0-9]?@gmail.com$', string=id): # + for mandatory and ? for optional and * for multiple occurance of a character\n",
    "        print('correct id', '-',id)\n",
    "    else:\n",
    "        print('incorrect id','-',id)"
   ]
  },
  {
   "cell_type": "code",
   "execution_count": 62,
   "metadata": {},
   "outputs": [
    {
     "name": "stdout",
     "output_type": "stream",
     "text": [
      "correct format\n",
      "correct format\n",
      "wrong format\n",
      "wrong format\n",
      "wrong format\n"
     ]
    }
   ],
   "source": [
    "# 2. Validate a mobile Phone Number with country code using Regular Expression\n",
    "mob_num = ['+91-999-888-3333','+91-7863459988','+919849842277','7862346789','+913458762309']\n",
    "# correct format : +91-xxx-xxx-xxxx or +91-xxxxxxxxxx\n",
    "for num in mob_num:\n",
    "    if re.search(pattern='^\\+91-\\d{3}[-]?\\d{3}[-]?\\d{4}$', string=num):\n",
    "        print('correct format')\n",
    "    else:\n",
    "        print('wrong format')"
   ]
  },
  {
   "cell_type": "code",
   "execution_count": 69,
   "metadata": {},
   "outputs": [
    {
     "data": {
      "text/plain": [
       "['3', '4', '5', '4', '3', '4', '2']"
      ]
     },
     "execution_count": 69,
     "metadata": {},
     "output_type": "execute_result"
    }
   ],
   "source": [
    "# 4. Find all numbers in a string using regular expression: string - adbv345hj43hvb42\n",
    "str = 'adbv345hj43hvb42'\n",
    "re.findall('\\d',str)"
   ]
  },
  {
   "cell_type": "code",
   "execution_count": null,
   "metadata": {},
   "outputs": [],
   "source": []
  }
 ],
 "metadata": {
  "kernelspec": {
   "display_name": "Python 3",
   "language": "python",
   "name": "python3"
  },
  "language_info": {
   "codemirror_mode": {
    "name": "ipython",
    "version": 3
   },
   "file_extension": ".py",
   "mimetype": "text/x-python",
   "name": "python",
   "nbconvert_exporter": "python",
   "pygments_lexer": "ipython3",
   "version": "3.8.5"
  }
 },
 "nbformat": 4,
 "nbformat_minor": 4
}
