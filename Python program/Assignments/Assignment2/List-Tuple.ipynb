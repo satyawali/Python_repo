{
 "cells": [
  {
   "cell_type": "code",
   "execution_count": null,
   "metadata": {},
   "outputs": [],
   "source": [
    "# 1. Program to Find the Largest Number in a List:\n",
    "# 2. Program to Put Even and Odd elements in a List into Two Different Lists:\n",
    "# 3. Program to Read a List of Words and Return the Length of the Longest\n",
    "# One:\n",
    "# 4. Create a List of Tuples with the First Element as the Number and Second\n",
    "# Element as the Square of the Number:\n",
    "# 5. Program to Remove the Duplicate Items from a List:\n",
    "# 6. WAP to check if this tuple (20, 20, 30, 30, 30, 40, 40, 40, 10) is in\n",
    "# ascending/ descending or in random order without inbuilt function."
   ]
  },
  {
   "cell_type": "code",
   "execution_count": 2,
   "metadata": {},
   "outputs": [
    {
     "name": "stdout",
     "output_type": "stream",
     "text": [
      "183\n"
     ]
    }
   ],
   "source": [
    "# 1. Program to Find the Largest Number in a List:\n",
    "list_no = [10,29,8,4,3,33,100,183,5]\n",
    "print(max(list_no))"
   ]
  },
  {
   "cell_type": "code",
   "execution_count": 7,
   "metadata": {},
   "outputs": [
    {
     "name": "stdout",
     "output_type": "stream",
     "text": [
      "[10, 50, 4, 66, 98, 88, 44]\n",
      "[3, 43, 7, 89, 33]\n"
     ]
    }
   ],
   "source": [
    "# 2. Program to Put Even and Odd elements in a List into Two Different Lists:\n",
    "\n",
    "list_no = [10,3,43,50,4,66,7,89,98,88,33,44]\n",
    "list_even=[]\n",
    "list_odd=[]\n",
    "for i in list_no:\n",
    "    if i%2==0:\n",
    "        list_even.append(i)\n",
    "    else:\n",
    "        list_odd.append(i)\n",
    "\n",
    "print(list_even)\n",
    "print(list_odd)\n"
   ]
  },
  {
   "cell_type": "code",
   "execution_count": 14,
   "metadata": {},
   "outputs": [
    {
     "name": "stdout",
     "output_type": "stream",
     "text": [
      "7\n"
     ]
    }
   ],
   "source": [
    "# 3. Program to Read a List of Words and Return the Length of the Longest One:\n",
    "\n",
    "n1=\"Program to Read a List of Words and Return the Length of the Longest One\"\n",
    "list_word=n1.split()\n",
    "max_len=0;\n",
    "for i in (list_word):\n",
    "    if len(i)>max_len:\n",
    "        max_len = len(i)\n",
    "    \n",
    "print(max_len)"
   ]
  },
  {
   "cell_type": "code",
   "execution_count": 35,
   "metadata": {},
   "outputs": [
    {
     "name": "stdout",
     "output_type": "stream",
     "text": [
      "Enter a number: 9\n",
      "[(1, 1), (2, 4), (3, 9), (4, 16), (5, 25), (6, 36), (7, 49), (8, 64), (9, 81)]\n"
     ]
    }
   ],
   "source": [
    "# 4. Create a List of Tuples with the First Element as the Number and Second\n",
    "# Element as the Square of the Number:\n",
    "\n",
    "[(2,4),(3,9),(4,14)]\n",
    "\n",
    "n1=input('Enter a number: ')\n",
    "list_tu=[]\n",
    "for i in range(1,int(n1)+1):\n",
    "    list_tu.append((i,i*i))\n",
    "\n",
    "print(list_tu)"
   ]
  },
  {
   "cell_type": "code",
   "execution_count": 40,
   "metadata": {},
   "outputs": [
    {
     "name": "stdout",
     "output_type": "stream",
     "text": [
      "Original list: ['hello', 'I', 'am', 'I', 'enjoying', 'my', 'my', 'life']\n",
      "New list: ['hello', 'I', 'am', 'enjoying', 'my', 'life']\n"
     ]
    }
   ],
   "source": [
    "# 5. Program to Remove the Duplicate Items from a List:\n",
    "n1 = ['hello', 'I','am','I','enjoying','my','my','life']\n",
    "res = []\n",
    "for i in n1:\n",
    "    if i not in res:\n",
    "        res.append(i)\n",
    "\n",
    "print('Original list: '+str(n1))\n",
    "print('New list: '+str(res))\n"
   ]
  },
  {
   "cell_type": "code",
   "execution_count": 82,
   "metadata": {},
   "outputs": [
    {
     "name": "stdout",
     "output_type": "stream",
     "text": [
      "random order\n"
     ]
    }
   ],
   "source": [
    "# 6. WAP to check if this tuple (20, 20, 30, 30, 30, 40, 40, 40, 10) is in\n",
    "# ascending/ descending or in random order without inbuilt function.\n",
    "\n",
    "tup_n1=(20, 20, 30, 30, 30, 40, 40, 40, 10)\n",
    "\n",
    "asc_ctr=0;\n",
    "dsc_ctr=0;\n",
    "\n",
    "for i in range(0,len(tup_n1)-1):\n",
    "        \n",
    "    if int(tup_n1[i])>=int(tup_n1[i+1]):\n",
    "        dsc_ctr+=1;\n",
    "    if int(tup_n1[i])<=int(tup_n1[i+1]):\n",
    "        asc_ctr+=1;\n",
    "\n",
    "if(asc_ctr==len(tup_n1)-1):\n",
    "    print('ascending order')\n",
    "elif(dsc_ctr==len(tup_n1)-1):\n",
    "    print('descending order')\n",
    "else:\n",
    "    print('random order')"
   ]
  },
  {
   "cell_type": "code",
   "execution_count": 73,
   "metadata": {},
   "outputs": [
    {
     "name": "stdout",
     "output_type": "stream",
     "text": [
      "[16, 29, 37, 55, 17]\n",
      "<generator object <genexpr> at 0x0000015B8C41D270>\n"
     ]
    }
   ],
   "source": [
    "# 1. WAP to add elements of the two lists:\n",
    "# 2. List1 = [6,9,7,5,10]\n",
    "# 3. List2 = [10,20,30,50,7]\n",
    "List1 = [6,9,7,5,10]\n",
    "List2 = [10,20,30,50,7]\n",
    "\n",
    "# Normal case\n",
    "# List3\n",
    "# for i in List1:\n",
    "#     for j in List2:\n",
    "#         if (List1.index(i) == List2.index(j)):\n",
    "#             List3.append(i+j)\n",
    "\n",
    "\n",
    "#Using comrehension\n",
    "print([i+j for i in List1 for j in List2 if (List1.index(i) == List2.index(j))])\n",
    "\n",
    "#Using list generator\n",
    "print(i+j for i in List1 for j in List2 if (List1.index(i) == List2.index(j)))\n"
   ]
  },
  {
   "cell_type": "code",
   "execution_count": 23,
   "metadata": {},
   "outputs": [
    {
     "name": "stdout",
     "output_type": "stream",
     "text": [
      "total: 14.36072173908816\n",
      "14.36072173908816\n",
      "14.36072173908816\n"
     ]
    }
   ],
   "source": [
    "# 4. WAP to add square root of the list elements: [5,7,9,10,11]\n",
    "\n",
    "List1 = [5,7,9,10,11]\n",
    "tot=0;\n",
    "for i in List1:\n",
    "    tot+=i**0.5  \n",
    "print('total: '+str(tot))\n",
    "\n",
    "#Using comrehension\n",
    "print(sum([i**0.5 for i in List1]))\n",
    "\n",
    "#Using list generator\n",
    "print(sum(i**0.5 for i in List1))"
   ]
  },
  {
   "cell_type": "code",
   "execution_count": 25,
   "metadata": {},
   "outputs": [
    {
     "name": "stdout",
     "output_type": "stream",
     "text": [
      "[2, 4, 6, 8, 10, 12, 14, 16, 18]\n"
     ]
    },
    {
     "data": {
      "text/plain": [
       "90"
      ]
     },
     "execution_count": 25,
     "metadata": {},
     "output_type": "execute_result"
    }
   ],
   "source": [
    "# 5. WAP to create 2’s multiplication table.\n",
    "\n",
    "#Using comrehension\n",
    "print([e*2 for e in range(1,10)])\n",
    "\n",
    "#Using List generator\n",
    "sum(e*2 for e in range(1,10))"
   ]
  },
  {
   "cell_type": "code",
   "execution_count": 45,
   "metadata": {},
   "outputs": [
    {
     "name": "stdout",
     "output_type": "stream",
     "text": [
      "Enter a string:Hellp BABA\n",
      "hellp baba\n",
      "hellp baba\n"
     ]
    }
   ],
   "source": [
    "# 6. WAP to return lower case version of list of characters of the string given by a user\n",
    "\n",
    "n1 = input('Enter a string:')\n",
    "\n",
    "\n",
    "#Using comrehension\n",
    "print(''.join([e.lower() for e in n1]))\n",
    "\n",
    "#Using List generator\n",
    "print(''.join((e.lower() for e in n1)))"
   ]
  },
  {
   "cell_type": "code",
   "execution_count": null,
   "metadata": {},
   "outputs": [],
   "source": [
    "# Dictionary\n",
    "# 1. Program to Check if a Given Key Exists in a Dictionary or Not:\n",
    "# 2. Program to Sum All the Items in a Dictionary:\n",
    "# 3. Program to Remove the Given Key from a Dictionary:\n",
    "# 4. Write a Python program to iterate over dictionaries using for loops:\n",
    "# 5. Write a Python program to sort a dictionary by key"
   ]
  },
  {
   "cell_type": "code",
   "execution_count": 114,
   "metadata": {},
   "outputs": [
    {
     "name": "stdout",
     "output_type": "stream",
     "text": [
      "Enter the key:ff\n",
      "Id doesn't exist\n"
     ]
    }
   ],
   "source": [
    "# 1. Program to Check if a Given Key Exists in a Dictionary or Not:\n",
    "\n",
    "Dict = {'id':[1,2,3,4,5], 'name':['satya','rahul','meena','rajesh','prisha'], 'city':['delhi','mumbai','chennai','bangalore','pune']}\n",
    "n1 = input('Enter the key:')\n",
    "flag=False;\n",
    "for item in Dict.keys():\n",
    "    if item==n1: flag=True\n",
    "\n",
    "print('id exist' if flag else \"Id doesn't exist\")"
   ]
  },
  {
   "cell_type": "code",
   "execution_count": 116,
   "metadata": {},
   "outputs": [
    {
     "data": {
      "text/plain": [
       "800"
      ]
     },
     "execution_count": 116,
     "metadata": {},
     "output_type": "execute_result"
    }
   ],
   "source": [
    "# 2. Program to Sum All the Items in a Dictionary:\n",
    "dic = {'A':100,'B':200,'C':500}\n",
    "sum(dic.values())\n"
   ]
  },
  {
   "cell_type": "code",
   "execution_count": 123,
   "metadata": {},
   "outputs": [
    {
     "data": {
      "text/plain": [
       "{'id': [1, 2, 3, 4, 5],\n",
       " 'name': ['satya', 'rahul', 'meena', 'rajesh', 'prisha']}"
      ]
     },
     "execution_count": 123,
     "metadata": {},
     "output_type": "execute_result"
    }
   ],
   "source": [
    "# 3. Program to Remove the Given Key from a Dictionary:\n",
    "Memb = {'id':[1,2,3,4,5], 'name':['satya','rahul','meena','rajesh','prisha'], 'city':['delhi','mumbai','chennai','bangalore','pune']}\n",
    "Memb.pop('city')\n",
    "Memb"
   ]
  },
  {
   "cell_type": "code",
   "execution_count": 169,
   "metadata": {},
   "outputs": [
    {
     "name": "stdout",
     "output_type": "stream",
     "text": [
      "id correspond to:  [1, 2, 3, 4, 5]\n",
      "name correspond to:  ['satya', 'rahul', 'meena', 'rajesh', 'prisha']\n",
      "city correspond to:  ['delhi', 'mumbai', 'chennai', 'bangalore', 'pune']\n"
     ]
    }
   ],
   "source": [
    "# 4. Write a Python program to iterate over dictionaries using for loops:\n",
    "Memb = {'id':[1,2,3,4,5], 'name':['satya','rahul','meena','rajesh','prisha'], 'city':['delhi','mumbai','chennai','bangalore','pune']}\n",
    "for i in Memb.items():\n",
    "    print(i[0],'correspond to: ',i[1])\n"
   ]
  },
  {
   "cell_type": "code",
   "execution_count": 206,
   "metadata": {},
   "outputs": [
    {
     "name": "stdout",
     "output_type": "stream",
     "text": [
      "A   100\n",
      "C   500\n",
      "D   200\n",
      "Y   400\n",
      "Z   300\n"
     ]
    }
   ],
   "source": [
    "# 5. Write a Python program to sort a dictionary by key\n",
    "dict = {'A':100,'D':200,'C':500,'Z':300,'Y':400}\n",
    "lis = sorted(dict.keys()) #only keys are sorted\n",
    "for i in lis:\n",
    "    print(i,' ',dict[i]) #print key and corresponding value\n"
   ]
  },
  {
   "cell_type": "code",
   "execution_count": null,
   "metadata": {},
   "outputs": [],
   "source": [
    "# Set\n",
    "# 1. Python Program to Count the Number of Vowels Present in a String\n",
    "# using Sets:\n",
    "# 2. Python Program to Check Common Letters in Two Input Strings:\n",
    "# 3. Python Program that displays which Letters are in the First String but not\n",
    "# in the Second:\n",
    "# 4. Python Program that displays which Letters are Present in Both the\n",
    "# Strings:\n",
    "# 5. Python Program that displays which Letters are in the Two Strings butb\n",
    "# not in both:\n"
   ]
  },
  {
   "cell_type": "code",
   "execution_count": 212,
   "metadata": {},
   "outputs": [
    {
     "name": "stdout",
     "output_type": "stream",
     "text": [
      "Enter a string: hello thre I am good\n",
      "7\n"
     ]
    }
   ],
   "source": [
    "# 1. Python Program to Count the Number of Vowels Present in a String\n",
    "\n",
    "vowel_set={'a','A','e','E','i','I','o','O','u','U'}\n",
    "n1 = input('Enter a string: ')\n",
    "ctr=0\n",
    "for alphabet in n1:\n",
    "    if alphabet in vowel_set:\n",
    "       ctr+=1 \n",
    "print(ctr)"
   ]
  },
  {
   "cell_type": "code",
   "execution_count": 240,
   "metadata": {},
   "outputs": [
    {
     "name": "stdout",
     "output_type": "stream",
     "text": [
      "Enter first string: hel\n",
      "Enter second string: hs\n",
      "{'h'}\n"
     ]
    }
   ],
   "source": [
    "# 2. Python Program to Check Common Letters in Two Input Strings:\n",
    "n1 = input('Enter first string: ')\n",
    "n2 = input('Enter second string: ')\n",
    "\n",
    "print(set(n1).intersection(n2))"
   ]
  },
  {
   "cell_type": "code",
   "execution_count": 242,
   "metadata": {},
   "outputs": [
    {
     "name": "stdout",
     "output_type": "stream",
     "text": [
      "Enter first string: bombay\n",
      "Enter second string: o\n"
     ]
    },
    {
     "data": {
      "text/plain": [
       "{'a', 'b', 'm', 'y'}"
      ]
     },
     "execution_count": 242,
     "metadata": {},
     "output_type": "execute_result"
    }
   ],
   "source": [
    "# 3. Python Program that displays which Letters are in the First String but not in the Second:\n",
    "n1 = input('Enter first string: ')\n",
    "n2 = input('Enter second string: ')\n",
    "\n",
    "set(n1).difference(n2)\n"
   ]
  },
  {
   "cell_type": "code",
   "execution_count": 243,
   "metadata": {},
   "outputs": [
    {
     "name": "stdout",
     "output_type": "stream",
     "text": [
      "Enter first string: hjs\n",
      "Enter second string: s\n"
     ]
    },
    {
     "data": {
      "text/plain": [
       "{'s'}"
      ]
     },
     "execution_count": 243,
     "metadata": {},
     "output_type": "execute_result"
    }
   ],
   "source": [
    "# 4. Python Program that displays which Letters are Present in Both the Strings:\n",
    "n1 = input('Enter first string: ')\n",
    "n2 = input('Enter second string: ')\n",
    "\n",
    "set(n1).intersection(n2)"
   ]
  },
  {
   "cell_type": "code",
   "execution_count": 246,
   "metadata": {},
   "outputs": [
    {
     "name": "stdout",
     "output_type": "stream",
     "text": [
      "Enter first string: hello\n",
      "Enter second string: help\n"
     ]
    },
    {
     "data": {
      "text/plain": [
       "{'o', 'p'}"
      ]
     },
     "execution_count": 246,
     "metadata": {},
     "output_type": "execute_result"
    }
   ],
   "source": [
    "# 5. Python Program that displays which Letters are in the Two Strings but not in both:\n",
    "n1 = input('Enter first string: ')\n",
    "n2 = input('Enter second string: ')\n",
    "set(n1).symmetric_difference(n2)"
   ]
  },
  {
   "cell_type": "code",
   "execution_count": null,
   "metadata": {},
   "outputs": [],
   "source": []
  }
 ],
 "metadata": {
  "kernelspec": {
   "display_name": "Python 3",
   "language": "python",
   "name": "python3"
  },
  "language_info": {
   "codemirror_mode": {
    "name": "ipython",
    "version": 3
   },
   "file_extension": ".py",
   "mimetype": "text/x-python",
   "name": "python",
   "nbconvert_exporter": "python",
   "pygments_lexer": "ipython3",
   "version": "3.8.5"
  }
 },
 "nbformat": 4,
 "nbformat_minor": 4
}
